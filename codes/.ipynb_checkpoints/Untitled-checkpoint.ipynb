{
 "cells": [
  {
   "cell_type": "code",
   "execution_count": 4,
   "metadata": {},
   "outputs": [
    {
     "name": "stdout",
     "output_type": "stream",
     "text": [
      "{'key': 123, 'key1': 456}\n"
     ]
    }
   ],
   "source": [
    "import pandas as pd\n",
    "import matplotlib as mat\n",
    "testdata  = {'key': 123, 'key1': 456 }\n",
    "print (testdata)\n",
    "testdf = pd.read_csv('../Data/2013 Monthly/1.csv')"
   ]
  },
  {
   "cell_type": "code",
   "execution_count": 9,
   "metadata": {},
   "outputs": [
    {
     "name": "stdout",
     "output_type": "stream",
     "text": [
      "   YEAR  MONTH  DAY_OF_MONTH     FL_DATE  AIRLINE_ID CARRIER  \\\n",
      "0  2013      1            17  2013-01-17       20363      9E   \n",
      "1  2013      1            18  2013-01-18       20363      9E   \n",
      "2  2013      1            19  2013-01-19       20363      9E   \n",
      "3  2013      1            20  2013-01-20       20363      9E   \n",
      "4  2013      1            21  2013-01-21       20363      9E   \n",
      "\n",
      "   ORIGIN_AIRPORT_ID ORIGIN       ORIGIN_CITY_NAME ORIGIN_STATE_ABR  \\\n",
      "0              11298    DFW  Dallas/Fort Worth, TX               TX   \n",
      "1              11298    DFW  Dallas/Fort Worth, TX               TX   \n",
      "2              11298    DFW  Dallas/Fort Worth, TX               TX   \n",
      "3              11298    DFW  Dallas/Fort Worth, TX               TX   \n",
      "4              11298    DFW  Dallas/Fort Worth, TX               TX   \n",
      "\n",
      "      ...       DEP_DELAY DEP_DELAY_NEW ARR_TIME ARR_DELAY  ARR_DELAY_NEW  \\\n",
      "0     ...            -7.0           0.0   1451.0     -14.0            0.0   \n",
      "1     ...            -8.0           0.0   1459.0      -6.0            0.0   \n",
      "2     ...            -5.0           0.0   1515.0      17.0           17.0   \n",
      "3     ...            -8.0           0.0   1455.0     -10.0            0.0   \n",
      "4     ...            -1.0           0.0   1446.0     -19.0            0.0   \n",
      "\n",
      "   CANCELLED  AIR_TIME  FLIGHTS  DISTANCE  Unnamed: 24  \n",
      "0        0.0     175.0      1.0    1391.0          NaN  \n",
      "1        0.0     178.0      1.0    1391.0          NaN  \n",
      "2        0.0     201.0      1.0    1391.0          NaN  \n",
      "3        0.0     176.0      1.0    1391.0          NaN  \n",
      "4        0.0     162.0      1.0    1391.0          NaN  \n",
      "\n",
      "[5 rows x 25 columns]\n"
     ]
    }
   ],
   "source": [
    "print (testdf.head())"
   ]
  },
  {
   "cell_type": "code",
   "execution_count": null,
   "metadata": {
    "collapsed": true
   },
   "outputs": [],
   "source": []
  },
  {
   "cell_type": "code",
   "execution_count": null,
   "metadata": {
    "collapsed": true
   },
   "outputs": [],
   "source": []
  },
  {
   "cell_type": "code",
   "execution_count": null,
   "metadata": {
    "collapsed": true
   },
   "outputs": [],
   "source": []
  }
 ],
 "metadata": {
  "kernelspec": {
   "display_name": "Python 3",
   "language": "python",
   "name": "python3"
  },
  "language_info": {
   "codemirror_mode": {
    "name": "ipython",
    "version": 3
   },
   "file_extension": ".py",
   "mimetype": "text/x-python",
   "name": "python",
   "nbconvert_exporter": "python",
   "pygments_lexer": "ipython3",
   "version": "3.5.1"
  }
 },
 "nbformat": 4,
 "nbformat_minor": 2
}
